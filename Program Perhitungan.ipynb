{
 "cells": [
  {
   "cell_type": "code",
   "execution_count": 8,
   "metadata": {},
   "outputs": [
    {
     "name": "stdout",
     "output_type": "stream",
     "text": [
      "a: 3\n",
      "b: 5\n",
      "3 + 5 = 8\n",
      "3 - 5 = -2\n",
      "3 * 5 = 15\n",
      "3 / 5 = 0\n",
      "3 % 5 = 3\n",
      "3 ** 5 = 243\n"
     ]
    }
   ],
   "source": [
    "# Ambil input untuk mengisi nilai\n",
    "a = int(input(\"a: \"))\n",
    "b = int(input(\"b: \"))\n",
    "# Menggunakan operator penjumlahan\n",
    "c = a + b\n",
    "print (\"%d + %d = %d\" % (a,b,c))\n",
    "# Operator Pengurangan\n",
    "c = a - b\n",
    "print (\"%d - %d = %d\" % (a,b,c))\n",
    "# Operator Perkalian\n",
    "c = a * b\n",
    "print (\"%d * %d = %d\" % (a,b,c))\n",
    "# Operator Pembagian\n",
    "c = a / b\n",
    "print (\"%d / %d = %d\" % (a,b,c))\n",
    "# Operator Sisa Bagi\n",
    "c = a % b\n",
    "print (\"%d %% %d = %d\" % (a,b,c))\n",
    "# Operator Pangkat\n",
    "c = a ** b\n",
    "print (\"%d ** %d = %d\" % (a,b,c))"
   ]
  },
  {
   "cell_type": "code",
   "execution_count": null,
   "metadata": {},
   "outputs": [],
   "source": []
  }
 ],
 "metadata": {
  "kernelspec": {
   "display_name": "Python 3",
   "language": "python",
   "name": "python3"
  },
  "language_info": {
   "codemirror_mode": {
    "name": "ipython",
    "version": 3
   },
   "file_extension": ".py",
   "mimetype": "text/x-python",
   "name": "python",
   "nbconvert_exporter": "python",
   "pygments_lexer": "ipython3",
   "version": "3.8.5"
  }
 },
 "nbformat": 4,
 "nbformat_minor": 4
}
