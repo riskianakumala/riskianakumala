{
 "cells": [
  {
   "cell_type": "code",
   "execution_count": 10,
   "metadata": {},
   "outputs": [
    {
     "name": "stdout",
     "output_type": "stream",
     "text": [
      "Nilai a: 9\n",
      "Nilai b: 5\n",
      "PENJUMLAHAN 9 + 5 = 14\n",
      "PENGURANGAN 9 - 5 = 4\n",
      "PERKALIAN 9 * 5 = 45\n",
      "PEMBAGIAN 9 / 5 = 1\n",
      "SISA BAGI 9 % 5 = 4\n",
      "OPERATOR PANGKAT 9 ** 5 = 59049\n"
     ]
    }
   ],
   "source": [
    "# Ambil input untuk mengisi nilai\n",
    "a = int(input(\"Nilai a: \"))\n",
    "b = int(input(\"Nilai b: \"))\n",
    "# Menggunakan operator penjumlahan\n",
    "c = a + b\n",
    "print (\"PENJUMLAHAN %d + %d = %d\" % (a,b,c))\n",
    "# Operator Pengurangan\n",
    "c = a - b\n",
    "print (\"PENGURANGAN %d - %d = %d\" % (a,b,c))\n",
    "# Operator Perkalian\n",
    "c = a * b\n",
    "print (\"PERKALIAN %d * %d = %d\" % (a,b,c))\n",
    "# Operator Pembagian\n",
    "c = a / b\n",
    "print (\"PEMBAGIAN %d / %d = %d\" % (a,b,c))\n",
    "# Operator Sisa Bagi\n",
    "c = a % b\n",
    "print (\"SISA BAGI %d %% %d = %d\" % (a,b,c))\n",
    "# Operator Pangkat\n",
    "c = a ** b\n",
    "print (\"OPERATOR PANGKAT %d ** %d = %d\" % (a,b,c))"
   ]
  },
  {
   "cell_type": "code",
   "execution_count": null,
   "metadata": {},
   "outputs": [],
   "source": []
  }
 ],
 "metadata": {
  "kernelspec": {
   "display_name": "Python 3",
   "language": "python",
   "name": "python3"
  },
  "language_info": {
   "codemirror_mode": {
    "name": "ipython",
    "version": 3
   },
   "file_extension": ".py",
   "mimetype": "text/x-python",
   "name": "python",
   "nbconvert_exporter": "python",
   "pygments_lexer": "ipython3",
   "version": "3.8.5"
  }
 },
 "nbformat": 4,
 "nbformat_minor": 4
}
